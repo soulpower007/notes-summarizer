{
 "cells": [
  {
   "cell_type": "code",
   "execution_count": 10,
   "id": "f89b7d10-781a-40d6-a32b-7a2f4089c6f1",
   "metadata": {},
   "outputs": [
    {
     "name": "stdout",
     "output_type": "stream",
     "text": [
      "sagemaker.config INFO - Not applying SDK defaults from location: /etc/xdg/sagemaker/config.yaml\n",
      "sagemaker.config INFO - Not applying SDK defaults from location: /home/sagemaker-user/.config/sagemaker/config.yaml\n"
     ]
    }
   ],
   "source": [
    "from sagemaker.s3 import S3Uploader\n",
    "\n",
    "file_key = 'model.tar.gz'\n",
    "model_artifact = S3Uploader.upload(file_key,'s3://my-trained-model-dbcnn/artifacts')"
   ]
  },
  {
   "cell_type": "code",
   "execution_count": 1,
   "id": "93808368-beff-4b54-97ae-753127ad55db",
   "metadata": {},
   "outputs": [
    {
     "name": "stdout",
     "output_type": "stream",
     "text": [
      "2.0.0.post101\n"
     ]
    }
   ],
   "source": [
    "import torch\n",
    "print(torch.__version__)"
   ]
  },
  {
   "cell_type": "code",
   "execution_count": 10,
   "id": "b1048ace-5a8d-4126-a20b-e967bade6ea1",
   "metadata": {},
   "outputs": [],
   "source": [
    "from sagemaker.image_uris import retrieve\n",
    "\n",
    "deploy_instance_type = 'ml.t2.xlarge'\n",
    "\n",
    "pytorch_inference_image_uri = retrieve('huggingface',\n",
    "                                       region='us-east-2',\n",
    "                                       version='4.6.1',\n",
    "                                       instance_type=deploy_instance_type,\n",
    "                                       base_framework_version='pytorch1.8.1',\n",
    "                                       image_scope='inference')"
   ]
  },
  {
   "cell_type": "code",
   "execution_count": 11,
   "id": "8a45a650-a21e-45c8-ac03-7bc96d95533b",
   "metadata": {},
   "outputs": [
    {
     "name": "stdout",
     "output_type": "stream",
     "text": [
      "763104351884.dkr.ecr.us-east-2.amazonaws.com/huggingface-pytorch-inference:1.8.1-transformers4.6.1-cpu-py36-ubuntu18.04\n"
     ]
    }
   ],
   "source": [
    "print(pytorch_inference_image_uri)"
   ]
  },
  {
   "cell_type": "code",
   "execution_count": 12,
   "id": "7556c42e-5734-4663-a23e-4f6f0a7168c8",
   "metadata": {},
   "outputs": [
    {
     "name": "stdout",
     "output_type": "stream",
     "text": [
      "sagemaker.config INFO - Not applying SDK defaults from location: /etc/xdg/sagemaker/config.yaml\n",
      "sagemaker.config INFO - Not applying SDK defaults from location: /home/sagemaker-user/.config/sagemaker/config.yaml\n",
      "sagemaker.config INFO - Not applying SDK defaults from location: /etc/xdg/sagemaker/config.yaml\n",
      "sagemaker.config INFO - Not applying SDK defaults from location: /home/sagemaker-user/.config/sagemaker/config.yaml\n",
      "sagemaker.config INFO - Not applying SDK defaults from location: /etc/xdg/sagemaker/config.yaml\n",
      "sagemaker.config INFO - Not applying SDK defaults from location: /home/sagemaker-user/.config/sagemaker/config.yaml\n"
     ]
    }
   ],
   "source": [
    "from sagemaker.huggingface.model import HuggingFaceModel\n",
    "from sagemaker import get_execution_role\n",
    "\n",
    "role = get_execution_role()\n",
    "# hub = {\n",
    "# 'HF_MODEL_ID':'distilbert-base-uncased-finetuned-sst-2-english',\n",
    "# 'HF_TASK':'summarization'\n",
    "# }\n",
    "# create Hugging Face Model Class\n",
    "huggingface_model = HuggingFaceModel(\n",
    "   model_data=\"s3://my-trained-model-dbcnn-3/model.tar.gz\", # path to your trained sagemaker model\n",
    "   image_uri=pytorch_inference_image_uri,\n",
    "   role=role, # iam role with permissions to create an Endpoint\n",
    "   transformers_version=\"4.6.1\", # transformers version used\n",
    ")"
   ]
  },
  {
   "cell_type": "code",
   "execution_count": 13,
   "id": "70a175f3-ccb0-4c09-876a-7c72810f2240",
   "metadata": {},
   "outputs": [
    {
     "name": "stdout",
     "output_type": "stream",
     "text": [
      "-----!"
     ]
    }
   ],
   "source": [
    "# import os\n",
    "# os.environ[\"TASK\"] = \"summarization\"\n",
    "\n",
    "# deploy model to SageMaker Inference\n",
    "predictor = huggingface_model.deploy(\n",
    "   initial_instance_count=1, \n",
    "   instance_type=\"ml.t2.xlarge\"\n",
    ")"
   ]
  },
  {
   "cell_type": "code",
   "execution_count": 14,
   "id": "14fa33e9-4c1c-45b1-95a4-e16cf7390570",
   "metadata": {},
   "outputs": [
    {
     "data": {
      "text/plain": [
       "'huggingface-pytorch-inference-2023-12-22-09-50-53-883'"
      ]
     },
     "execution_count": 14,
     "metadata": {},
     "output_type": "execute_result"
    }
   ],
   "source": [
    "predictor.endpoint_name"
   ]
  },
  {
   "cell_type": "code",
   "execution_count": 26,
   "id": "2fc7236a-b958-4ac4-aa0e-fca29c89a8da",
   "metadata": {},
   "outputs": [
    {
     "data": {
      "text/plain": [
       "'huggingface-pytorch-inference-2023-12-13-03-31-22-982'"
      ]
     },
     "execution_count": 26,
     "metadata": {},
     "output_type": "execute_result"
    }
   ],
   "source": [
    "predictor.endpoint_name"
   ]
  },
  {
   "cell_type": "code",
   "execution_count": 50,
   "id": "63fcfa1c-3739-4c0e-8660-fae69aee3df9",
   "metadata": {},
   "outputs": [
    {
     "data": {
      "text/plain": [
       "[{'generated_text': ' In the midst of a bustling city, vibrant colors of street markets painted the scene . Cafés bustled with laughter, while the aroma of diverse cuisines filled the air . In a nearby park, the tranquility of nature provided a respite . Underneath a starlit sky, people shared stories and dreams .'}]"
      ]
     },
     "execution_count": 50,
     "metadata": {},
     "output_type": "execute_result"
    }
   ],
   "source": [
    "data = {\n",
    "   \"inputs\": \"In the midst of a bustling city, vibrant colors of street markets painted the scene. A melodic hum of conversations blended with the rhythmic sounds of footsteps on cobblestone streets. As the sun dipped below the horizon, city lights illuminated towering skyscrapers, creating a mesmerizing nocturnal panorama. Cafés bustled with laughter, while the aroma of diverse cuisines filled the air. In a nearby park, the tranquility of nature provided a respite. Underneath a starlit sky, people shared stories and dreams. Each moment was a tapestry woven with threads of connection, creating a mosaic of experiences that echoed the heartbeat of urban life.\"\n",
    "}\n",
    "\n",
    "# request\n",
    "predictor.predict(data)"
   ]
  },
  {
   "cell_type": "code",
   "execution_count": 38,
   "id": "7fecc313-963c-4855-99c5-a3409b3f39c0",
   "metadata": {},
   "outputs": [
    {
     "name": "stdout",
     "output_type": "stream",
     "text": [
      "sagemaker.config INFO - Not applying SDK defaults from location: /etc/xdg/sagemaker/config.yaml\n",
      "sagemaker.config INFO - Not applying SDK defaults from location: /home/sagemaker-user/.config/sagemaker/config.yaml\n",
      "arn:aws:iam::593489176864:role/service-role/AmazonSageMaker-ExecutionRole-20231212T202053\n"
     ]
    }
   ],
   "source": [
    "role = get_execution_role()\n",
    "print(role)"
   ]
  },
  {
   "cell_type": "code",
   "execution_count": 44,
   "id": "fb2a5b46-1113-410b-bc7c-0ae3f9b96eac",
   "metadata": {},
   "outputs": [
    {
     "data": {
      "text/plain": [
       "'huggingface-pytorch-inference-2023-12-13-04-46-52-847'"
      ]
     },
     "execution_count": 44,
     "metadata": {},
     "output_type": "execute_result"
    }
   ],
   "source": [
    "predictor.endpoint_name"
   ]
  }
 ],
 "metadata": {
  "kernelspec": {
   "display_name": "Python 3 (ipykernel)",
   "language": "python",
   "name": "python3"
  },
  "language_info": {
   "codemirror_mode": {
    "name": "ipython",
    "version": 3
   },
   "file_extension": ".py",
   "mimetype": "text/x-python",
   "name": "python",
   "nbconvert_exporter": "python",
   "pygments_lexer": "ipython3",
   "version": "3.10.13"
  }
 },
 "nbformat": 4,
 "nbformat_minor": 5
}
